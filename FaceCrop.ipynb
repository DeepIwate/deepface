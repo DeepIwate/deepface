{
 "cells": [
  {
   "cell_type": "code",
   "execution_count": 36,
   "metadata": {
    "collapsed": true
   },
   "outputs": [],
   "source": [
    "import cv2\n",
    "import numpy as np\n",
    "import os"
   ]
  },
  {
   "cell_type": "code",
   "execution_count": 49,
   "metadata": {},
   "outputs": [],
   "source": [
    "data_dir_path = u\"lfw/\"\n",
    "file_list = os.listdir(data_dir_path)"
   ]
  },
  {
   "cell_type": "code",
   "execution_count": 64,
   "metadata": {
    "collapsed": true
   },
   "outputs": [],
   "source": [
    "cascade=cv2.CascadeClassifier(\"haarcascade_frontalface_default.xml\")"
   ]
  },
  {
   "cell_type": "code",
   "execution_count": 73,
   "metadata": {},
   "outputs": [],
   "source": [
    "for d in file_list:\n",
    "    data_dir_path2 =data_dir_path+d+\"/\"\n",
    "    file_list2 = os.listdir(data_dir_path2)\n",
    "    for file in file_list2:\n",
    "        img = cv2.imread(data_dir_path2+file)\n",
    "        gray=cv2.cvtColor(img, cv2.COLOR_BGR2GRAY)\n",
    "        facerect = cascade.detectMultiScale(gray, scaleFactor=1.3, minNeighbors=5,minSize=(10, 10))\n",
    "        for rect in facerect:\n",
    "            dst = img[rect[1]:rect[1] + rect[3], rect[0]:rect[0] + rect[2]]\n",
    "        resultfile = \"result/result_\"+file\n",
    "        cv2.imwrite(resultfile, dst)"
   ]
  }
 ],
 "metadata": {
  "kernelspec": {
   "display_name": "Python 3",
   "language": "python",
   "name": "python3"
  },
  "language_info": {
   "codemirror_mode": {
    "name": "ipython",
    "version": 3
   },
   "file_extension": ".py",
   "mimetype": "text/x-python",
   "name": "python",
   "nbconvert_exporter": "python",
   "pygments_lexer": "ipython3",
   "version": "3.6.1"
  }
 },
 "nbformat": 4,
 "nbformat_minor": 2
}
