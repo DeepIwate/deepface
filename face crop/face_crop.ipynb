{
 "cells": [
  {
   "cell_type": "code",
   "execution_count": 1,
   "metadata": {
    "collapsed": true
   },
   "outputs": [],
   "source": [
    "import cv2\n",
    "import matplotlib.pyplot as plt\n",
    "import numpy as np\n",
    "import os\n",
    "from PIL import Image"
   ]
  },
  {
   "cell_type": "code",
   "execution_count": 2,
   "metadata": {
    "collapsed": true
   },
   "outputs": [],
   "source": [
    "image_path = \"/home/yura/Desktop/image_dataset/\"\n",
    "out_jpg = \"/home/yura/Desktop/image_dataset/output/\"\n",
    "cascade_path = \"/home/yura/anaconda3/share/OpenCV/haarcascades/haarcascade_frontalface_alt.xml\""
   ]
  },
  {
   "cell_type": "code",
   "execution_count": 3,
   "metadata": {
    "cell_style": "center"
   },
   "outputs": [
    {
     "name": "stdout",
     "output_type": "stream",
     "text": [
      "hl.jpg\n",
      "[[480 194  54  54]\n",
      " [627 223  46  46]\n",
      " [294 211  48  48]\n",
      " [817 245  49  49]\n",
      " [122 238  45  45]]\n",
      "Aaron_Eckhart_0001.jpg\n",
      "[[ 71  67 110 110]]\n"
     ]
    }
   ],
   "source": [
    "#get file list\n",
    "def get_file(dir_path):\n",
    "    dir_list = os.listdir(dir_path)\n",
    "    filenames = [f for f in dir_list if os.path.isfile(os.path.join(dir_path, f))]\n",
    "    return filenames\n",
    "\n",
    "#read file\n",
    "image = get_file(image_path)\n",
    "\n",
    "for i in image:\n",
    "    image_gs = cv2.imread(image_path + i)\n",
    "    \n",
    "    #convert to grayscale\n",
    "    image_gray = cv2.cvtColor(image_gs, cv2.COLOR_BGR2GRAY)\n",
    "\n",
    "    #CascadeClassifier\n",
    "    cascade = cv2.CascadeClassifier(cascade_path)\n",
    "\n",
    "    #face recognition (detect face)\n",
    "    facerect = cascade.detectMultiScale(image_gray, scaleFactor=1.2, \n",
    "                                        minNeighbors=2, minSize=(10, 10))\n",
    "\n",
    "    print (str(i))\n",
    "    print (facerect)\n",
    "    \n",
    "    #face crop\n",
    "    j = 1;\n",
    "    for rect in facerect:\n",
    "        dst = image_gs[rect[1]:rect[1] + rect[3], rect[0]:rect[0] + rect[2]]\n",
    "        save_path = out_jpg + '/' + 'out_('  + str(i) +')' + str(j) + '.jpg'\n",
    "        \n",
    "        #save\n",
    "        cv2.imwrite(save_path, dst)\n",
    "        #plt.show(plt.imshow(np.asarray(Image.open(save_path))))\n",
    "        j += 1"
   ]
  },
  {
   "cell_type": "code",
   "execution_count": null,
   "metadata": {
    "collapsed": true
   },
   "outputs": [],
   "source": []
  }
 ],
 "metadata": {
  "kernelspec": {
   "display_name": "Python 3",
   "language": "python",
   "name": "python3"
  },
  "language_info": {
   "codemirror_mode": {
    "name": "ipython",
    "version": 3
   },
   "file_extension": ".py",
   "mimetype": "text/x-python",
   "name": "python",
   "nbconvert_exporter": "python",
   "pygments_lexer": "ipython3",
   "version": "3.6.1"
  },
  "varInspector": {
   "cols": {
    "lenName": 16,
    "lenType": 16,
    "lenVar": 40
   },
   "kernels_config": {
    "python": {
     "delete_cmd_postfix": "",
     "delete_cmd_prefix": "del ",
     "library": "var_list.py",
     "varRefreshCmd": "print(var_dic_list())"
    },
    "r": {
     "delete_cmd_postfix": ") ",
     "delete_cmd_prefix": "rm(",
     "library": "var_list.r",
     "varRefreshCmd": "cat(var_dic_list()) "
    }
   },
   "oldHeight": 409,
   "position": {
    "height": "40px",
    "left": "661px",
    "right": "20px",
    "top": "102px",
    "width": "630px"
   },
   "types_to_exclude": [
    "module",
    "function",
    "builtin_function_or_method",
    "instance",
    "_Feature"
   ],
   "varInspector_section_display": "none",
   "window_display": false
  }
 },
 "nbformat": 4,
 "nbformat_minor": 2
}
